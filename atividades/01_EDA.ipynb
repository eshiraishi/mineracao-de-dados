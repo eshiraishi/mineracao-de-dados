{
 "cells": [
  {
   "cell_type": "markdown",
   "id": "irish-indianapolis",
   "metadata": {},
   "source": [
    "# Atividade 1"
   ]
  },
  {
   "cell_type": "markdown",
   "id": "forward-house",
   "metadata": {},
   "source": [
    "## Questão 1\n",
    "\n",
    "Considere a base de dados drinks.csv, disponível em https://raw.githubusercontent.com/fivethirtyeight/data/master/alcohol-consumption/drinks.csv. Essa base de dados contém o consumo médio de bebidas alcoólicas em diversos países. As colunas dessa base são o nome do país (country), consumo de cerveja (beer_servings), destilados (spirit_servings), vinho (wine_servings) e o total de consumo de bebidas alcoólicas para cada pais ('total_litres_of_pure_alcohol'). A(s) coluna(s) que tem distribuição platicúrtica (curtose < 0) é (são): (selecione todas que são verdadeiras)\n",
    "\n",
    "- [ ] `country`\n",
    "- [x] `beer_servings`\n",
    "- [ ] `spirit_servings`\n",
    "- [ ] `wine_servings`\n",
    "- [x] `total_litres_of_pure_alcohol`"
   ]
  },
  {
   "cell_type": "code",
   "execution_count": 60,
   "id": "amateur-wound",
   "metadata": {},
   "outputs": [],
   "source": [
    "import pandas as pd\n",
    "import seaborn as sns\n",
    "import matplotlib.pyplot as plt\n",
    "from scipy.stats import norm"
   ]
  },
  {
   "cell_type": "code",
   "execution_count": 10,
   "id": "antique-windsor",
   "metadata": {},
   "outputs": [
    {
     "data": {
      "text/html": [
       "<div>\n",
       "<style scoped>\n",
       "    .dataframe tbody tr th:only-of-type {\n",
       "        vertical-align: middle;\n",
       "    }\n",
       "\n",
       "    .dataframe tbody tr th {\n",
       "        vertical-align: top;\n",
       "    }\n",
       "\n",
       "    .dataframe thead th {\n",
       "        text-align: right;\n",
       "    }\n",
       "</style>\n",
       "<table border=\"1\" class=\"dataframe\">\n",
       "  <thead>\n",
       "    <tr style=\"text-align: right;\">\n",
       "      <th></th>\n",
       "      <th>country</th>\n",
       "      <th>beer_servings</th>\n",
       "      <th>spirit_servings</th>\n",
       "      <th>wine_servings</th>\n",
       "      <th>total_litres_of_pure_alcohol</th>\n",
       "    </tr>\n",
       "  </thead>\n",
       "  <tbody>\n",
       "    <tr>\n",
       "      <th>0</th>\n",
       "      <td>Afghanistan</td>\n",
       "      <td>0</td>\n",
       "      <td>0</td>\n",
       "      <td>0</td>\n",
       "      <td>0.0</td>\n",
       "    </tr>\n",
       "    <tr>\n",
       "      <th>1</th>\n",
       "      <td>Albania</td>\n",
       "      <td>89</td>\n",
       "      <td>132</td>\n",
       "      <td>54</td>\n",
       "      <td>4.9</td>\n",
       "    </tr>\n",
       "    <tr>\n",
       "      <th>2</th>\n",
       "      <td>Algeria</td>\n",
       "      <td>25</td>\n",
       "      <td>0</td>\n",
       "      <td>14</td>\n",
       "      <td>0.7</td>\n",
       "    </tr>\n",
       "    <tr>\n",
       "      <th>3</th>\n",
       "      <td>Andorra</td>\n",
       "      <td>245</td>\n",
       "      <td>138</td>\n",
       "      <td>312</td>\n",
       "      <td>12.4</td>\n",
       "    </tr>\n",
       "    <tr>\n",
       "      <th>4</th>\n",
       "      <td>Angola</td>\n",
       "      <td>217</td>\n",
       "      <td>57</td>\n",
       "      <td>45</td>\n",
       "      <td>5.9</td>\n",
       "    </tr>\n",
       "  </tbody>\n",
       "</table>\n",
       "</div>"
      ],
      "text/plain": [
       "       country  beer_servings  spirit_servings  wine_servings  \\\n",
       "0  Afghanistan              0                0              0   \n",
       "1      Albania             89              132             54   \n",
       "2      Algeria             25                0             14   \n",
       "3      Andorra            245              138            312   \n",
       "4       Angola            217               57             45   \n",
       "\n",
       "   total_litres_of_pure_alcohol  \n",
       "0                           0.0  \n",
       "1                           4.9  \n",
       "2                           0.7  \n",
       "3                          12.4  \n",
       "4                           5.9  "
      ]
     },
     "execution_count": 10,
     "metadata": {},
     "output_type": "execute_result"
    }
   ],
   "source": [
    "drinks = pd.read_csv('https://raw.githubusercontent.com/fivethirtyeight/data/master/alcohol-consumption/drinks.csv')"
   ]
  },
  {
   "cell_type": "code",
   "execution_count": 140,
   "id": "binary-sight",
   "metadata": {},
   "outputs": [
    {
     "data": {
      "text/html": [
       "<div>\n",
       "<style scoped>\n",
       "    .dataframe tbody tr th:only-of-type {\n",
       "        vertical-align: middle;\n",
       "    }\n",
       "\n",
       "    .dataframe tbody tr th {\n",
       "        vertical-align: top;\n",
       "    }\n",
       "\n",
       "    .dataframe thead th {\n",
       "        text-align: right;\n",
       "    }\n",
       "</style>\n",
       "<table border=\"1\" class=\"dataframe\">\n",
       "  <thead>\n",
       "    <tr style=\"text-align: right;\">\n",
       "      <th></th>\n",
       "      <th>country</th>\n",
       "      <th>beer_servings</th>\n",
       "      <th>spirit_servings</th>\n",
       "      <th>wine_servings</th>\n",
       "      <th>total_litres_of_pure_alcohol</th>\n",
       "    </tr>\n",
       "  </thead>\n",
       "  <tbody>\n",
       "    <tr>\n",
       "      <th>188</th>\n",
       "      <td>Venezuela</td>\n",
       "      <td>333</td>\n",
       "      <td>100</td>\n",
       "      <td>3</td>\n",
       "      <td>7.7</td>\n",
       "    </tr>\n",
       "    <tr>\n",
       "      <th>189</th>\n",
       "      <td>Vietnam</td>\n",
       "      <td>111</td>\n",
       "      <td>2</td>\n",
       "      <td>1</td>\n",
       "      <td>2.0</td>\n",
       "    </tr>\n",
       "    <tr>\n",
       "      <th>190</th>\n",
       "      <td>Yemen</td>\n",
       "      <td>6</td>\n",
       "      <td>0</td>\n",
       "      <td>0</td>\n",
       "      <td>0.1</td>\n",
       "    </tr>\n",
       "    <tr>\n",
       "      <th>191</th>\n",
       "      <td>Zambia</td>\n",
       "      <td>32</td>\n",
       "      <td>19</td>\n",
       "      <td>4</td>\n",
       "      <td>2.5</td>\n",
       "    </tr>\n",
       "    <tr>\n",
       "      <th>192</th>\n",
       "      <td>Zimbabwe</td>\n",
       "      <td>64</td>\n",
       "      <td>18</td>\n",
       "      <td>4</td>\n",
       "      <td>4.7</td>\n",
       "    </tr>\n",
       "  </tbody>\n",
       "</table>\n",
       "</div>"
      ],
      "text/plain": [
       "       country  beer_servings  spirit_servings  wine_servings  \\\n",
       "188  Venezuela            333              100              3   \n",
       "189    Vietnam            111                2              1   \n",
       "190      Yemen              6                0              0   \n",
       "191     Zambia             32               19              4   \n",
       "192   Zimbabwe             64               18              4   \n",
       "\n",
       "     total_litres_of_pure_alcohol  \n",
       "188                           7.7  \n",
       "189                           2.0  \n",
       "190                           0.1  \n",
       "191                           2.5  \n",
       "192                           4.7  "
      ]
     },
     "execution_count": 140,
     "metadata": {},
     "output_type": "execute_result"
    }
   ],
   "source": [
    "drinks.tail()"
   ]
  },
  {
   "cell_type": "code",
   "execution_count": 43,
   "id": "random-operations",
   "metadata": {},
   "outputs": [
    {
     "name": "stdout",
     "output_type": "stream",
     "text": [
      "<class 'pandas.core.frame.DataFrame'>\n",
      "RangeIndex: 193 entries, 0 to 192\n",
      "Data columns (total 5 columns):\n",
      " #   Column                        Non-Null Count  Dtype  \n",
      "---  ------                        --------------  -----  \n",
      " 0   country                       193 non-null    object \n",
      " 1   beer_servings                 193 non-null    int64  \n",
      " 2   spirit_servings               193 non-null    int64  \n",
      " 3   wine_servings                 193 non-null    int64  \n",
      " 4   total_litres_of_pure_alcohol  193 non-null    float64\n",
      "dtypes: float64(1), int64(3), object(1)\n",
      "memory usage: 7.7+ KB\n"
     ]
    }
   ],
   "source": [
    "drinks.info()"
   ]
  },
  {
   "cell_type": "code",
   "execution_count": 101,
   "id": "imposed-intensity",
   "metadata": {},
   "outputs": [
    {
     "data": {
      "text/plain": [
       "beer_servings                    True\n",
       "spirit_servings                 False\n",
       "wine_servings                   False\n",
       "total_litres_of_pure_alcohol     True\n",
       "dtype: bool"
      ]
     },
     "execution_count": 101,
     "metadata": {},
     "output_type": "execute_result"
    }
   ],
   "source": [
    "drinks.kurt() < 0"
   ]
  },
  {
   "cell_type": "markdown",
   "id": "tight-reach",
   "metadata": {},
   "source": [
    "## Questão 2\n",
    "\n",
    "Considere a base de dados drinks.csv, disponível em https://raw.githubusercontent.com/fivethirtyeight/data/master/alcohol-consumption/drinks.csv. Essa base de dados contém o consumo médio de bebidas alcoólicas em diversos países. As colunas dessa base são o nome do país (country), consumo de cerveja (beer_servings), destilados (spirit_servings), vinho (wine_servings) e o total de consumo de bebidas alcoólicas para cada pais. O tipo de bebida que tem a maior mediana entre todos os países é:\n",
    "Escolha uma opção:\n",
    "- [ ] Vinho (wine_servings)\n",
    "- [x] Cerveja (beer_servings)\n",
    "- [ ] Destilado (spirit_servings)"
   ]
  },
  {
   "cell_type": "code",
   "execution_count": 141,
   "id": "liked-negotiation",
   "metadata": {},
   "outputs": [
    {
     "data": {
      "text/html": [
       "<div>\n",
       "<style scoped>\n",
       "    .dataframe tbody tr th:only-of-type {\n",
       "        vertical-align: middle;\n",
       "    }\n",
       "\n",
       "    .dataframe tbody tr th {\n",
       "        vertical-align: top;\n",
       "    }\n",
       "\n",
       "    .dataframe thead th {\n",
       "        text-align: right;\n",
       "    }\n",
       "</style>\n",
       "<table border=\"1\" class=\"dataframe\">\n",
       "  <thead>\n",
       "    <tr style=\"text-align: right;\">\n",
       "      <th></th>\n",
       "      <th>country</th>\n",
       "      <th>beer_servings</th>\n",
       "      <th>spirit_servings</th>\n",
       "      <th>wine_servings</th>\n",
       "      <th>total_litres_of_pure_alcohol</th>\n",
       "    </tr>\n",
       "  </thead>\n",
       "  <tbody>\n",
       "    <tr>\n",
       "      <th>188</th>\n",
       "      <td>Venezuela</td>\n",
       "      <td>333</td>\n",
       "      <td>100</td>\n",
       "      <td>3</td>\n",
       "      <td>7.7</td>\n",
       "    </tr>\n",
       "    <tr>\n",
       "      <th>189</th>\n",
       "      <td>Vietnam</td>\n",
       "      <td>111</td>\n",
       "      <td>2</td>\n",
       "      <td>1</td>\n",
       "      <td>2.0</td>\n",
       "    </tr>\n",
       "    <tr>\n",
       "      <th>190</th>\n",
       "      <td>Yemen</td>\n",
       "      <td>6</td>\n",
       "      <td>0</td>\n",
       "      <td>0</td>\n",
       "      <td>0.1</td>\n",
       "    </tr>\n",
       "    <tr>\n",
       "      <th>191</th>\n",
       "      <td>Zambia</td>\n",
       "      <td>32</td>\n",
       "      <td>19</td>\n",
       "      <td>4</td>\n",
       "      <td>2.5</td>\n",
       "    </tr>\n",
       "    <tr>\n",
       "      <th>192</th>\n",
       "      <td>Zimbabwe</td>\n",
       "      <td>64</td>\n",
       "      <td>18</td>\n",
       "      <td>4</td>\n",
       "      <td>4.7</td>\n",
       "    </tr>\n",
       "  </tbody>\n",
       "</table>\n",
       "</div>"
      ],
      "text/plain": [
       "       country  beer_servings  spirit_servings  wine_servings  \\\n",
       "188  Venezuela            333              100              3   \n",
       "189    Vietnam            111                2              1   \n",
       "190      Yemen              6                0              0   \n",
       "191     Zambia             32               19              4   \n",
       "192   Zimbabwe             64               18              4   \n",
       "\n",
       "     total_litres_of_pure_alcohol  \n",
       "188                           7.7  \n",
       "189                           2.0  \n",
       "190                           0.1  \n",
       "191                           2.5  \n",
       "192                           4.7  "
      ]
     },
     "execution_count": 141,
     "metadata": {},
     "output_type": "execute_result"
    }
   ],
   "source": [
    "consumption = pd.read_csv('https://raw.githubusercontent.com/fivethirtyeight/data/master/alcohol-consumption/drinks.csv')\n",
    "consumption.tail()"
   ]
  },
  {
   "cell_type": "code",
   "execution_count": 105,
   "id": "electrical-performance",
   "metadata": {},
   "outputs": [
    {
     "data": {
      "text/plain": [
       "beer_servings      76.0\n",
       "spirit_servings    56.0\n",
       "wine_servings       8.0\n",
       "dtype: float64"
      ]
     },
     "execution_count": 105,
     "metadata": {},
     "output_type": "execute_result"
    }
   ],
   "source": [
    "consumption[['beer_servings', 'spirit_servings', 'wine_servings']].median()"
   ]
  },
  {
   "cell_type": "markdown",
   "id": "pressed-jamaica",
   "metadata": {},
   "source": [
    "## Questão 3\n",
    "\n",
    "Considere a base de dados disponível em https://raw.githubusercontent.com/schloerke/cranvasOLD/master/files/data/tips.csv. Essa base de dados é sobre o pagamento de contas em um restaurante, e contém como atributos o total da conta (total_bill), a gorjeta (tip), o sexo do cliente pagante (sex), se a mesa estava em uma área de fumantes (smoker), o dia da semana (day), o período (time) e a quantidade de pessoas na mesa (size). Construa duas novas colunas, uma chamada 'tip_percapta' dividindo a gorjeta (tip) por quantidade de pessoas (size) e outra chamada 'tip_percent', dividindo a coluna gorjeta ('tip') pelo total da conta ('total_bill). No pandas, você pode fazer isso facilmente com os comandos\n",
    "\n",
    "```python\n",
    "tips['tip_percapita'] = tips['tip']/tips['size']\n",
    "tips['tip_percent'] = tips['tip']/tips['total_bill']\n",
    "```\n",
    "em que tips é o nome do dataframe que armazena os dados. Após a criação dessas duas colunas, calcule a obiquidade (skewnewss) e responda:\n",
    "\n",
    "A coluna 'tip' tem uma obliquidade **maior** que a coluna 'tip_percapta', e a coluna 'tip' tem uma obliquidade **menor** que a coluna 'tip_percent'."
   ]
  },
  {
   "cell_type": "code",
   "execution_count": 118,
   "id": "aggressive-gambling",
   "metadata": {},
   "outputs": [],
   "source": [
    "tips = pd.read_csv('https://raw.githubusercontent.com/schloerke/cranvasOLD/master/files/data/tips.csv', index_col=0)"
   ]
  },
  {
   "cell_type": "code",
   "execution_count": 142,
   "id": "legislative-tuesday",
   "metadata": {},
   "outputs": [
    {
     "data": {
      "text/html": [
       "<div>\n",
       "<style scoped>\n",
       "    .dataframe tbody tr th:only-of-type {\n",
       "        vertical-align: middle;\n",
       "    }\n",
       "\n",
       "    .dataframe tbody tr th {\n",
       "        vertical-align: top;\n",
       "    }\n",
       "\n",
       "    .dataframe thead th {\n",
       "        text-align: right;\n",
       "    }\n",
       "</style>\n",
       "<table border=\"1\" class=\"dataframe\">\n",
       "  <thead>\n",
       "    <tr style=\"text-align: right;\">\n",
       "      <th></th>\n",
       "      <th>total_bill</th>\n",
       "      <th>tip</th>\n",
       "      <th>sex</th>\n",
       "      <th>smoker</th>\n",
       "      <th>day</th>\n",
       "      <th>time</th>\n",
       "      <th>size</th>\n",
       "      <th>tip_percapita</th>\n",
       "      <th>tip_percent</th>\n",
       "    </tr>\n",
       "  </thead>\n",
       "  <tbody>\n",
       "    <tr>\n",
       "      <th>240</th>\n",
       "      <td>29.03</td>\n",
       "      <td>5.92</td>\n",
       "      <td>Male</td>\n",
       "      <td>No</td>\n",
       "      <td>Sat</td>\n",
       "      <td>Dinner</td>\n",
       "      <td>3</td>\n",
       "      <td>1.973333</td>\n",
       "      <td>0.203927</td>\n",
       "    </tr>\n",
       "    <tr>\n",
       "      <th>241</th>\n",
       "      <td>27.18</td>\n",
       "      <td>2.00</td>\n",
       "      <td>Female</td>\n",
       "      <td>Yes</td>\n",
       "      <td>Sat</td>\n",
       "      <td>Dinner</td>\n",
       "      <td>2</td>\n",
       "      <td>1.000000</td>\n",
       "      <td>0.073584</td>\n",
       "    </tr>\n",
       "    <tr>\n",
       "      <th>242</th>\n",
       "      <td>22.67</td>\n",
       "      <td>2.00</td>\n",
       "      <td>Male</td>\n",
       "      <td>Yes</td>\n",
       "      <td>Sat</td>\n",
       "      <td>Dinner</td>\n",
       "      <td>2</td>\n",
       "      <td>1.000000</td>\n",
       "      <td>0.088222</td>\n",
       "    </tr>\n",
       "    <tr>\n",
       "      <th>243</th>\n",
       "      <td>17.82</td>\n",
       "      <td>1.75</td>\n",
       "      <td>Male</td>\n",
       "      <td>No</td>\n",
       "      <td>Sat</td>\n",
       "      <td>Dinner</td>\n",
       "      <td>2</td>\n",
       "      <td>0.875000</td>\n",
       "      <td>0.098204</td>\n",
       "    </tr>\n",
       "    <tr>\n",
       "      <th>244</th>\n",
       "      <td>18.78</td>\n",
       "      <td>3.00</td>\n",
       "      <td>Female</td>\n",
       "      <td>No</td>\n",
       "      <td>Thur</td>\n",
       "      <td>Dinner</td>\n",
       "      <td>2</td>\n",
       "      <td>1.500000</td>\n",
       "      <td>0.159744</td>\n",
       "    </tr>\n",
       "  </tbody>\n",
       "</table>\n",
       "</div>"
      ],
      "text/plain": [
       "     total_bill   tip     sex smoker   day    time  size  tip_percapita  \\\n",
       "240       29.03  5.92    Male     No   Sat  Dinner     3       1.973333   \n",
       "241       27.18  2.00  Female    Yes   Sat  Dinner     2       1.000000   \n",
       "242       22.67  2.00    Male    Yes   Sat  Dinner     2       1.000000   \n",
       "243       17.82  1.75    Male     No   Sat  Dinner     2       0.875000   \n",
       "244       18.78  3.00  Female     No  Thur  Dinner     2       1.500000   \n",
       "\n",
       "     tip_percent  \n",
       "240     0.203927  \n",
       "241     0.073584  \n",
       "242     0.088222  \n",
       "243     0.098204  \n",
       "244     0.159744  "
      ]
     },
     "execution_count": 142,
     "metadata": {},
     "output_type": "execute_result"
    }
   ],
   "source": [
    "tips.tail()"
   ]
  },
  {
   "cell_type": "code",
   "execution_count": 143,
   "id": "frank-central",
   "metadata": {},
   "outputs": [
    {
     "data": {
      "text/html": [
       "<div>\n",
       "<style scoped>\n",
       "    .dataframe tbody tr th:only-of-type {\n",
       "        vertical-align: middle;\n",
       "    }\n",
       "\n",
       "    .dataframe tbody tr th {\n",
       "        vertical-align: top;\n",
       "    }\n",
       "\n",
       "    .dataframe thead th {\n",
       "        text-align: right;\n",
       "    }\n",
       "</style>\n",
       "<table border=\"1\" class=\"dataframe\">\n",
       "  <thead>\n",
       "    <tr style=\"text-align: right;\">\n",
       "      <th></th>\n",
       "      <th>total_bill</th>\n",
       "      <th>tip</th>\n",
       "      <th>sex</th>\n",
       "      <th>smoker</th>\n",
       "      <th>day</th>\n",
       "      <th>time</th>\n",
       "      <th>size</th>\n",
       "      <th>tip_percapita</th>\n",
       "      <th>tip_percent</th>\n",
       "    </tr>\n",
       "  </thead>\n",
       "  <tbody>\n",
       "    <tr>\n",
       "      <th>240</th>\n",
       "      <td>29.03</td>\n",
       "      <td>5.92</td>\n",
       "      <td>Male</td>\n",
       "      <td>No</td>\n",
       "      <td>Sat</td>\n",
       "      <td>Dinner</td>\n",
       "      <td>3</td>\n",
       "      <td>1.973333</td>\n",
       "      <td>0.203927</td>\n",
       "    </tr>\n",
       "    <tr>\n",
       "      <th>241</th>\n",
       "      <td>27.18</td>\n",
       "      <td>2.00</td>\n",
       "      <td>Female</td>\n",
       "      <td>Yes</td>\n",
       "      <td>Sat</td>\n",
       "      <td>Dinner</td>\n",
       "      <td>2</td>\n",
       "      <td>1.000000</td>\n",
       "      <td>0.073584</td>\n",
       "    </tr>\n",
       "    <tr>\n",
       "      <th>242</th>\n",
       "      <td>22.67</td>\n",
       "      <td>2.00</td>\n",
       "      <td>Male</td>\n",
       "      <td>Yes</td>\n",
       "      <td>Sat</td>\n",
       "      <td>Dinner</td>\n",
       "      <td>2</td>\n",
       "      <td>1.000000</td>\n",
       "      <td>0.088222</td>\n",
       "    </tr>\n",
       "    <tr>\n",
       "      <th>243</th>\n",
       "      <td>17.82</td>\n",
       "      <td>1.75</td>\n",
       "      <td>Male</td>\n",
       "      <td>No</td>\n",
       "      <td>Sat</td>\n",
       "      <td>Dinner</td>\n",
       "      <td>2</td>\n",
       "      <td>0.875000</td>\n",
       "      <td>0.098204</td>\n",
       "    </tr>\n",
       "    <tr>\n",
       "      <th>244</th>\n",
       "      <td>18.78</td>\n",
       "      <td>3.00</td>\n",
       "      <td>Female</td>\n",
       "      <td>No</td>\n",
       "      <td>Thur</td>\n",
       "      <td>Dinner</td>\n",
       "      <td>2</td>\n",
       "      <td>1.500000</td>\n",
       "      <td>0.159744</td>\n",
       "    </tr>\n",
       "  </tbody>\n",
       "</table>\n",
       "</div>"
      ],
      "text/plain": [
       "     total_bill   tip     sex smoker   day    time  size  tip_percapita  \\\n",
       "240       29.03  5.92    Male     No   Sat  Dinner     3       1.973333   \n",
       "241       27.18  2.00  Female    Yes   Sat  Dinner     2       1.000000   \n",
       "242       22.67  2.00    Male    Yes   Sat  Dinner     2       1.000000   \n",
       "243       17.82  1.75    Male     No   Sat  Dinner     2       0.875000   \n",
       "244       18.78  3.00  Female     No  Thur  Dinner     2       1.500000   \n",
       "\n",
       "     tip_percent  \n",
       "240     0.203927  \n",
       "241     0.073584  \n",
       "242     0.088222  \n",
       "243     0.098204  \n",
       "244     0.159744  "
      ]
     },
     "execution_count": 143,
     "metadata": {},
     "output_type": "execute_result"
    }
   ],
   "source": [
    "tips['tip_percapita'] = tips['tip']/tips['size']\n",
    "tips['tip_percent'] = tips['tip']/tips['total_bill']\n",
    "tips.tail()"
   ]
  },
  {
   "cell_type": "code",
   "execution_count": 122,
   "id": "significant-poker",
   "metadata": {},
   "outputs": [
    {
     "data": {
      "text/plain": [
       "total_bill       1.133213\n",
       "tip              1.465451\n",
       "size             1.447882\n",
       "tip_percapita    1.093185\n",
       "tip_percent      3.349217\n",
       "dtype: float64"
      ]
     },
     "execution_count": 122,
     "metadata": {},
     "output_type": "execute_result"
    }
   ],
   "source": [
    "tips.skew()"
   ]
  },
  {
   "cell_type": "markdown",
   "id": "continuous-complement",
   "metadata": {},
   "source": [
    "## Questão 4\n",
    "\n",
    "Considere a base de dados disponível em\n",
    "https://raw.githubusercontent.com/schloerke/cranvasOLD/master/files/data/chocolates.csv. Essa base de dados contém informações nutricionais sobre diferentes tipos de chocolate, com as colunas nome (Name), fabricante (MFR), país (Country), tipo (Type), caloria (Calories), calorias referente a gordura (CalFat), total de gordura (TotalFat), colesterol (Chol), Sódio (Na), carboidratos (Carb), Fibras (Fiber), açúcares (Sugar), e proteínas (Protein). Para essa base de dados, responda (dica: se estiver usando o pandas, pesquise pelo uso groupby, que pode lhe ajudar em alguns casos).\n",
    "\n",
    "O desvio padrão da coluna colesterol (Chol) é maior para o tipo (Type) **Milk** , o país (Country) cuja média de acúçar (Sugar) é maior é o **Austria**."
   ]
  },
  {
   "cell_type": "code",
   "execution_count": 124,
   "id": "acknowledged-purchase",
   "metadata": {},
   "outputs": [],
   "source": [
    "chocolates = pd.read_csv('https://raw.githubusercontent.com/schloerke/cranvasOLD/master/files/data/chocolates.csv')"
   ]
  },
  {
   "cell_type": "code",
   "execution_count": 144,
   "id": "fiscal-laundry",
   "metadata": {},
   "outputs": [
    {
     "data": {
      "text/html": [
       "<div>\n",
       "<style scoped>\n",
       "    .dataframe tbody tr th:only-of-type {\n",
       "        vertical-align: middle;\n",
       "    }\n",
       "\n",
       "    .dataframe tbody tr th {\n",
       "        vertical-align: top;\n",
       "    }\n",
       "\n",
       "    .dataframe thead th {\n",
       "        text-align: right;\n",
       "    }\n",
       "</style>\n",
       "<table border=\"1\" class=\"dataframe\">\n",
       "  <thead>\n",
       "    <tr style=\"text-align: right;\">\n",
       "      <th></th>\n",
       "      <th>Name</th>\n",
       "      <th>MFR</th>\n",
       "      <th>Country</th>\n",
       "      <th>Type</th>\n",
       "      <th>Calories</th>\n",
       "      <th>CalFat</th>\n",
       "      <th>TotFat</th>\n",
       "      <th>SatFat</th>\n",
       "      <th>Chol</th>\n",
       "      <th>Na</th>\n",
       "      <th>Carbs</th>\n",
       "      <th>Fiber</th>\n",
       "      <th>Sugars</th>\n",
       "      <th>Protein</th>\n",
       "    </tr>\n",
       "  </thead>\n",
       "  <tbody>\n",
       "    <tr>\n",
       "      <th>83</th>\n",
       "      <td>Milk Chocolate Square</td>\n",
       "      <td>Ghiradelli</td>\n",
       "      <td>US</td>\n",
       "      <td>Milk</td>\n",
       "      <td>475.000000</td>\n",
       "      <td>250.000000</td>\n",
       "      <td>27.500000</td>\n",
       "      <td>15.000000</td>\n",
       "      <td>12.500000</td>\n",
       "      <td>37.50000</td>\n",
       "      <td>62.500000</td>\n",
       "      <td>5.000000</td>\n",
       "      <td>52.500000</td>\n",
       "      <td>5.000000</td>\n",
       "    </tr>\n",
       "    <tr>\n",
       "      <th>84</th>\n",
       "      <td>Symphony Milk Chocolate Bar</td>\n",
       "      <td>Hershey's</td>\n",
       "      <td>US</td>\n",
       "      <td>Milk</td>\n",
       "      <td>530.952381</td>\n",
       "      <td>276.190476</td>\n",
       "      <td>30.476191</td>\n",
       "      <td>18.333333</td>\n",
       "      <td>23.809524</td>\n",
       "      <td>100.00000</td>\n",
       "      <td>58.095238</td>\n",
       "      <td>1.666667</td>\n",
       "      <td>54.047619</td>\n",
       "      <td>8.571429</td>\n",
       "    </tr>\n",
       "    <tr>\n",
       "      <th>85</th>\n",
       "      <td>35% Cacao Premium Milk</td>\n",
       "      <td>Hershey's</td>\n",
       "      <td>US</td>\n",
       "      <td>Milk</td>\n",
       "      <td>550.000000</td>\n",
       "      <td>325.000000</td>\n",
       "      <td>37.500000</td>\n",
       "      <td>22.500000</td>\n",
       "      <td>25.000000</td>\n",
       "      <td>75.00000</td>\n",
       "      <td>52.500000</td>\n",
       "      <td>2.500000</td>\n",
       "      <td>50.000000</td>\n",
       "      <td>7.500000</td>\n",
       "    </tr>\n",
       "    <tr>\n",
       "      <th>86</th>\n",
       "      <td>41% Cacao Milk Chocolate</td>\n",
       "      <td>Scharffen Berger</td>\n",
       "      <td>US</td>\n",
       "      <td>Milk</td>\n",
       "      <td>465.116279</td>\n",
       "      <td>302.325581</td>\n",
       "      <td>32.558140</td>\n",
       "      <td>20.930233</td>\n",
       "      <td>23.255814</td>\n",
       "      <td>116.27907</td>\n",
       "      <td>48.837209</td>\n",
       "      <td>4.651163</td>\n",
       "      <td>41.860465</td>\n",
       "      <td>7.233327</td>\n",
       "    </tr>\n",
       "    <tr>\n",
       "      <th>87</th>\n",
       "      <td>Milk Chocolate</td>\n",
       "      <td>Trader Joe's</td>\n",
       "      <td>US</td>\n",
       "      <td>Milk</td>\n",
       "      <td>520.000000</td>\n",
       "      <td>280.000000</td>\n",
       "      <td>32.000000</td>\n",
       "      <td>18.000000</td>\n",
       "      <td>20.000000</td>\n",
       "      <td>70.00000</td>\n",
       "      <td>58.000000</td>\n",
       "      <td>0.000000</td>\n",
       "      <td>54.000000</td>\n",
       "      <td>6.000000</td>\n",
       "    </tr>\n",
       "  </tbody>\n",
       "</table>\n",
       "</div>"
      ],
      "text/plain": [
       "                           Name               MFR Country  Type    Calories  \\\n",
       "83        Milk Chocolate Square        Ghiradelli      US  Milk  475.000000   \n",
       "84  Symphony Milk Chocolate Bar         Hershey's      US  Milk  530.952381   \n",
       "85       35% Cacao Premium Milk         Hershey's      US  Milk  550.000000   \n",
       "86     41% Cacao Milk Chocolate  Scharffen Berger      US  Milk  465.116279   \n",
       "87               Milk Chocolate      Trader Joe's      US  Milk  520.000000   \n",
       "\n",
       "        CalFat     TotFat     SatFat       Chol         Na      Carbs  \\\n",
       "83  250.000000  27.500000  15.000000  12.500000   37.50000  62.500000   \n",
       "84  276.190476  30.476191  18.333333  23.809524  100.00000  58.095238   \n",
       "85  325.000000  37.500000  22.500000  25.000000   75.00000  52.500000   \n",
       "86  302.325581  32.558140  20.930233  23.255814  116.27907  48.837209   \n",
       "87  280.000000  32.000000  18.000000  20.000000   70.00000  58.000000   \n",
       "\n",
       "       Fiber     Sugars   Protein  \n",
       "83  5.000000  52.500000  5.000000  \n",
       "84  1.666667  54.047619  8.571429  \n",
       "85  2.500000  50.000000  7.500000  \n",
       "86  4.651163  41.860465  7.233327  \n",
       "87  0.000000  54.000000  6.000000  "
      ]
     },
     "execution_count": 144,
     "metadata": {},
     "output_type": "execute_result"
    }
   ],
   "source": [
    "chocolates.tail()"
   ]
  },
  {
   "cell_type": "code",
   "execution_count": 130,
   "id": "modified-platinum",
   "metadata": {},
   "outputs": [
    {
     "data": {
      "text/plain": [
       "Type\n",
       "Dark    7.391411\n",
       "Milk    9.255840\n",
       "Name: Chol, dtype: float64"
      ]
     },
     "execution_count": 130,
     "metadata": {},
     "output_type": "execute_result"
    }
   ],
   "source": [
    "chocolates.groupby('Type')['Chol'].std()"
   ]
  },
  {
   "cell_type": "code",
   "execution_count": 135,
   "id": "affected-senate",
   "metadata": {},
   "outputs": [
    {
     "data": {
      "text/plain": [
       "Country\n",
       "Austria        57.537879\n",
       "Belgium        35.881920\n",
       "Colombia       37.619048\n",
       "France         33.777512\n",
       "German         46.695000\n",
       "Switzerland    42.662003\n",
       "UK             21.156293\n",
       "US             41.570380\n",
       "Name: Sugars, dtype: float64"
      ]
     },
     "execution_count": 135,
     "metadata": {},
     "output_type": "execute_result"
    }
   ],
   "source": [
    "chocolates.groupby('Country')['Sugars'].mean()"
   ]
  },
  {
   "cell_type": "markdown",
   "id": "actual-consultancy",
   "metadata": {},
   "source": [
    "## Questão 5\n",
    "\n",
    "Considere a base de dados disponível em: http://professor.ufabc.edu.br/~ronaldo.prati/MineracaoDados/bases/pima.csv. Essa base de dados contém dados sobre indígenas da etnia Pima (dos EUA), com relação a incidência de diabetes.\n",
    "\n",
    "- pregnancy: número de gravidezes\n",
    "- plasma: concentração de glucose no plasma\n",
    "- diastolic_bp: pressão sanguínea diastólica\n",
    "- triceps: espessura do trícepes\n",
    "- insulin: nível de insulana\n",
    "- bmi: índice de massa corporal\n",
    "- diabets pedigree: escore do histórico familiar de diabetes\n",
    "- age: idade\n",
    "- diagnostic: diagnóstico 0 (não diabético), 1 (diabético)\n",
    "\n",
    "\n",
    "A quantidade de valores ausentes para o atributo insulin é maior para o diagnóstico **0** .\n",
    "\n",
    "Remover os registros com valores ausentes **não altera** a média da coluna bmi.\n",
    "\n",
    "Substituir os valores ausentes pela média **diminui** o desvio padrão da coluna distolic_pb."
   ]
  },
  {
   "cell_type": "code",
   "execution_count": 138,
   "id": "caroline-platform",
   "metadata": {},
   "outputs": [],
   "source": [
    "pima = pd.read_csv('http://professor.ufabc.edu.br/~ronaldo.prati/MineracaoDados/bases/pima.csv', index_col=0)"
   ]
  },
  {
   "cell_type": "code",
   "execution_count": 182,
   "id": "adequate-thriller",
   "metadata": {},
   "outputs": [
    {
     "data": {
      "text/html": [
       "<div>\n",
       "<style scoped>\n",
       "    .dataframe tbody tr th:only-of-type {\n",
       "        vertical-align: middle;\n",
       "    }\n",
       "\n",
       "    .dataframe tbody tr th {\n",
       "        vertical-align: top;\n",
       "    }\n",
       "\n",
       "    .dataframe thead th {\n",
       "        text-align: right;\n",
       "    }\n",
       "</style>\n",
       "<table border=\"1\" class=\"dataframe\">\n",
       "  <thead>\n",
       "    <tr style=\"text-align: right;\">\n",
       "      <th></th>\n",
       "      <th>pregnancy</th>\n",
       "      <th>plasma</th>\n",
       "      <th>diastolic_bp</th>\n",
       "      <th>triceps</th>\n",
       "      <th>insulin</th>\n",
       "      <th>bmi</th>\n",
       "      <th>diabets pedigree</th>\n",
       "      <th>age</th>\n",
       "      <th>diagnostic</th>\n",
       "    </tr>\n",
       "  </thead>\n",
       "  <tbody>\n",
       "    <tr>\n",
       "      <th>0</th>\n",
       "      <td>6</td>\n",
       "      <td>148.0</td>\n",
       "      <td>72.0</td>\n",
       "      <td>35.0</td>\n",
       "      <td>NaN</td>\n",
       "      <td>33.6</td>\n",
       "      <td>0.627</td>\n",
       "      <td>50</td>\n",
       "      <td>1</td>\n",
       "    </tr>\n",
       "    <tr>\n",
       "      <th>1</th>\n",
       "      <td>1</td>\n",
       "      <td>85.0</td>\n",
       "      <td>66.0</td>\n",
       "      <td>29.0</td>\n",
       "      <td>NaN</td>\n",
       "      <td>26.6</td>\n",
       "      <td>0.351</td>\n",
       "      <td>31</td>\n",
       "      <td>0</td>\n",
       "    </tr>\n",
       "    <tr>\n",
       "      <th>2</th>\n",
       "      <td>8</td>\n",
       "      <td>183.0</td>\n",
       "      <td>64.0</td>\n",
       "      <td>NaN</td>\n",
       "      <td>NaN</td>\n",
       "      <td>23.3</td>\n",
       "      <td>0.672</td>\n",
       "      <td>32</td>\n",
       "      <td>1</td>\n",
       "    </tr>\n",
       "    <tr>\n",
       "      <th>3</th>\n",
       "      <td>1</td>\n",
       "      <td>89.0</td>\n",
       "      <td>66.0</td>\n",
       "      <td>23.0</td>\n",
       "      <td>94.0</td>\n",
       "      <td>28.1</td>\n",
       "      <td>0.167</td>\n",
       "      <td>21</td>\n",
       "      <td>0</td>\n",
       "    </tr>\n",
       "    <tr>\n",
       "      <th>4</th>\n",
       "      <td>0</td>\n",
       "      <td>137.0</td>\n",
       "      <td>40.0</td>\n",
       "      <td>35.0</td>\n",
       "      <td>168.0</td>\n",
       "      <td>43.1</td>\n",
       "      <td>2.288</td>\n",
       "      <td>33</td>\n",
       "      <td>1</td>\n",
       "    </tr>\n",
       "  </tbody>\n",
       "</table>\n",
       "</div>"
      ],
      "text/plain": [
       "   pregnancy  plasma  diastolic_bp  triceps  insulin   bmi  diabets pedigree  \\\n",
       "0          6   148.0          72.0     35.0      NaN  33.6             0.627   \n",
       "1          1    85.0          66.0     29.0      NaN  26.6             0.351   \n",
       "2          8   183.0          64.0      NaN      NaN  23.3             0.672   \n",
       "3          1    89.0          66.0     23.0     94.0  28.1             0.167   \n",
       "4          0   137.0          40.0     35.0    168.0  43.1             2.288   \n",
       "\n",
       "   age  diagnostic  \n",
       "0   50           1  \n",
       "1   31           0  \n",
       "2   32           1  \n",
       "3   21           0  \n",
       "4   33           1  "
      ]
     },
     "execution_count": 182,
     "metadata": {},
     "output_type": "execute_result"
    }
   ],
   "source": [
    "pima.head()"
   ]
  },
  {
   "cell_type": "code",
   "execution_count": 175,
   "id": "prescription-scout",
   "metadata": {},
   "outputs": [
    {
     "name": "stdout",
     "output_type": "stream",
     "text": [
      "<class 'pandas.core.frame.DataFrame'>\n",
      "Int64Index: 768 entries, 0 to 767\n",
      "Data columns (total 9 columns):\n",
      " #   Column            Non-Null Count  Dtype  \n",
      "---  ------            --------------  -----  \n",
      " 0   pregnancy         768 non-null    int64  \n",
      " 1   plasma            763 non-null    float64\n",
      " 2   diastolic_bp      733 non-null    float64\n",
      " 3   triceps           541 non-null    float64\n",
      " 4   insulin           394 non-null    float64\n",
      " 5   bmi               757 non-null    float64\n",
      " 6   diabets pedigree  768 non-null    float64\n",
      " 7   age               768 non-null    int64  \n",
      " 8   diagnostic        768 non-null    int64  \n",
      "dtypes: float64(6), int64(3)\n",
      "memory usage: 76.2 KB\n"
     ]
    }
   ],
   "source": [
    "pima.info()"
   ]
  },
  {
   "cell_type": "code",
   "execution_count": 194,
   "id": "working-plate",
   "metadata": {},
   "outputs": [
    {
     "data": {
      "text/plain": [
       "diagnostic\n",
       "0    236\n",
       "1    138\n",
       "dtype: int64"
      ]
     },
     "execution_count": 194,
     "metadata": {},
     "output_type": "execute_result"
    }
   ],
   "source": [
    "pima[pima['insulin'].isna()].groupby('diagnostic').size()"
   ]
  },
  {
   "cell_type": "code",
   "execution_count": 212,
   "id": "domestic-syndrome",
   "metadata": {},
   "outputs": [
    {
     "name": "stdout",
     "output_type": "stream",
     "text": [
      "Média de bmi sem remover os valores ausentes: 32.457463672391015\n",
      "Média de bmi removendo os valores ausentes:   32.457463672391015\n"
     ]
    }
   ],
   "source": [
    "print(f\"Média de bmi sem remover os valores ausentes: {pima['bmi'].mean()}\")\n",
    "print(f\"Média de bmi removendo os valores ausentes:   {pima['bmi'].dropna().mean()}\")"
   ]
  },
  {
   "cell_type": "code",
   "execution_count": 213,
   "id": "polish-fifteen",
   "metadata": {},
   "outputs": [
    {
     "name": "stdout",
     "output_type": "stream",
     "text": [
      "Média de diastolic_pb sem alterar os valores ausentes:            12.38215821010526\n",
      "Média de diastolic_pb alterando os valores ausentes para a média: 12.096346184037937\n"
     ]
    }
   ],
   "source": [
    "print(f\"Média de diastolic_pb sem alterar os valores ausentes:            {pima['diastolic_bp'].std()}\")\n",
    "print(f\"Média de diastolic_pb alterando os valores ausentes para a média: {pima['diastolic_bp'].fillna(pima['diastolic_bp'].mean()).std()}\")"
   ]
  }
 ],
 "metadata": {
  "kernelspec": {
   "display_name": "Python 3",
   "language": "python",
   "name": "python3"
  },
  "language_info": {
   "codemirror_mode": {
    "name": "ipython",
    "version": 3
   },
   "file_extension": ".py",
   "mimetype": "text/x-python",
   "name": "python",
   "nbconvert_exporter": "python",
   "pygments_lexer": "ipython3",
   "version": "3.8.8"
  }
 },
 "nbformat": 4,
 "nbformat_minor": 5
}
