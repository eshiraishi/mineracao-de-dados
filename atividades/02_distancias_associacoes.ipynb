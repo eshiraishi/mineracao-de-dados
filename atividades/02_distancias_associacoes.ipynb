{
 "cells": [
  {
   "cell_type": "markdown",
   "id": "composite-genetics",
   "metadata": {},
   "source": [
    "# Atividade 2"
   ]
  },
  {
   "cell_type": "code",
   "execution_count": 1,
   "id": "physical-rouge",
   "metadata": {},
   "outputs": [],
   "source": [
    "import pandas as pd\n",
    "import seaborn as sns"
   ]
  },
  {
   "cell_type": "markdown",
   "id": "comparative-chinese",
   "metadata": {},
   "source": [
    "## Exercício 1"
   ]
  },
  {
   "cell_type": "markdown",
   "id": "forbidden-motion",
   "metadata": {},
   "source": [
    "Considere a base de dados disponível em https://raw.githubusercontent.com/jlyang1990/Spark_Python_Do_Big_Data_Analytics/master/auto-data.csv. Essa base tem os seguintes atributos:\n",
    "\n",
    "- Fabricante (MAKE)\n",
    "- Combustível (FUELTYPE)\n",
    "- Tipo de Apiração (ASPIRE)\n",
    "- Quantidade de Portas (DOORS)\n",
    "- Carroceria (BODY)\n",
    "- Tração (DRIVE)\n",
    "- Número de cilindros (CYLINDERS)\n",
    "- Potência (HP)\n",
    "- Rotações por minuto (RPM)\n",
    "- Consumo na cidade (MPG-CITY)\n",
    "- Consumo na estrada (MPG-HWY)\n",
    "- Preço (PRICE)\n",
    "\n",
    "Considerando os atributos numéricos, o atributo que tem maior correlação positiva com o preço (PRICE) é o **HP**. Já o atributo que tem maior correlação negativa com a potência (HP) é o **MPG-CITY**. O atributo numérico com menor correlação com os demais é **RPM**."
   ]
  },
  {
   "cell_type": "code",
   "execution_count": 2,
   "id": "polish-department",
   "metadata": {},
   "outputs": [],
   "source": [
    "auto = pd.read_csv(\"https://raw.githubusercontent.com/jlyang1990/Spark_Python_Do_Big_Data_Analytics/master/auto-data.csv\")"
   ]
  },
  {
   "cell_type": "code",
   "execution_count": 3,
   "id": "gross-drain",
   "metadata": {},
   "outputs": [
    {
     "data": {
      "text/plain": [
       "HP          0.811953\n",
       "RPM        -0.101319\n",
       "MPG-CITY   -0.692948\n",
       "MPG-HWY    -0.708659\n",
       "PRICE       1.000000\n",
       "Name: PRICE, dtype: float64"
      ]
     },
     "execution_count": 3,
     "metadata": {},
     "output_type": "execute_result"
    }
   ],
   "source": [
    "auto.corr()['PRICE']"
   ]
  },
  {
   "cell_type": "code",
   "execution_count": 4,
   "id": "educational-translator",
   "metadata": {},
   "outputs": [
    {
     "data": {
      "text/plain": [
       "HP          1.000000\n",
       "RPM         0.103574\n",
       "MPG-CITY   -0.821960\n",
       "MPG-HWY    -0.803658\n",
       "PRICE       0.811953\n",
       "Name: HP, dtype: float64"
      ]
     },
     "execution_count": 4,
     "metadata": {},
     "output_type": "execute_result"
    }
   ],
   "source": [
    "auto.corr()['HP']"
   ]
  },
  {
   "cell_type": "code",
   "execution_count": 13,
   "id": "missing-tragedy",
   "metadata": {},
   "outputs": [
    {
     "data": {
      "text/plain": [
       "HP          0.103574\n",
       "RPM         0.050632\n",
       "MPG-CITY    0.107648\n",
       "MPG-HWY     0.050632\n",
       "PRICE       0.101319\n",
       "dtype: float64"
      ]
     },
     "execution_count": 13,
     "metadata": {},
     "output_type": "execute_result"
    }
   ],
   "source": [
    "abs(auto.corr()).min()"
   ]
  },
  {
   "cell_type": "markdown",
   "id": "overhead-serve",
   "metadata": {},
   "source": [
    "## Exercício 2"
   ]
  },
  {
   "cell_type": "markdown",
   "id": "concrete-impact",
   "metadata": {},
   "source": [
    "Considere a base de dados disponível em https://raw.githubusercontent.com/jlyang1990/Spark_Python_Do_Big_Data_Analytics/master/auto-data.csv. Essa base tem os seguintes atributos:\n",
    "\n",
    "- Fabricante (MAKE)\n",
    "- Combustível (FUELTYPE)\n",
    "- Tipo de Apiração (ASPIRE)\n",
    "- Quantidade de Portas (DOORS)\n",
    "- Carroceria (BODY)\n",
    "- Tração (DRIVE)\n",
    "- Número de cilindros (CYLINDERS)\n",
    "- Potência (HP)\n",
    "- Rotações por minuto (RPM)\n",
    "- Consumo na cidade (MPG-CITY)\n",
    "- Consumo na estrada (MPG-HWY)\n",
    "- Preço (PRICE)\n",
    "\n",
    "Considerando os atributos tipo de combustível (FUELTYPE) e número de portas (DOORS), podemos dizer que a proporção de veículos com 4 portas é maior para o tipo de combustível **diesel**. O tipo de carroceria com maior preço médio é o **hardtop**. Já o tipo de tração com melhor desempenho na cidade (maior MPG-CITY) é o **fwd**."
   ]
  },
  {
   "cell_type": "code",
   "execution_count": null,
   "id": "juvenile-occurrence",
   "metadata": {},
   "outputs": [],
   "source": [
    "auto = pd.read_csv(\"https://raw.githubusercontent.com/jlyang1990/Spark_Python_Do_Big_Data_Analytics/master/auto-data.csv\")"
   ]
  },
  {
   "cell_type": "code",
   "execution_count": 80,
   "id": "latest-rebate",
   "metadata": {},
   "outputs": [
    {
     "data": {
      "text/html": [
       "<div>\n",
       "<style scoped>\n",
       "    .dataframe tbody tr th:only-of-type {\n",
       "        vertical-align: middle;\n",
       "    }\n",
       "\n",
       "    .dataframe tbody tr th {\n",
       "        vertical-align: top;\n",
       "    }\n",
       "\n",
       "    .dataframe thead th {\n",
       "        text-align: right;\n",
       "    }\n",
       "</style>\n",
       "<table border=\"1\" class=\"dataframe\">\n",
       "  <thead>\n",
       "    <tr style=\"text-align: right;\">\n",
       "      <th></th>\n",
       "      <th>MAKE</th>\n",
       "      <th>ASPIRE</th>\n",
       "      <th>DOORS</th>\n",
       "      <th>BODY</th>\n",
       "      <th>DRIVE</th>\n",
       "      <th>CYLINDERS</th>\n",
       "      <th>HP</th>\n",
       "      <th>RPM</th>\n",
       "      <th>MPG-CITY</th>\n",
       "      <th>MPG-HWY</th>\n",
       "      <th>PRICE</th>\n",
       "    </tr>\n",
       "    <tr>\n",
       "      <th>FUELTYPE</th>\n",
       "      <th></th>\n",
       "      <th></th>\n",
       "      <th></th>\n",
       "      <th></th>\n",
       "      <th></th>\n",
       "      <th></th>\n",
       "      <th></th>\n",
       "      <th></th>\n",
       "      <th></th>\n",
       "      <th></th>\n",
       "      <th></th>\n",
       "    </tr>\n",
       "  </thead>\n",
       "  <tbody>\n",
       "    <tr>\n",
       "      <th>diesel</th>\n",
       "      <td>0.842105</td>\n",
       "      <td>0.842105</td>\n",
       "      <td>0.842105</td>\n",
       "      <td>0.842105</td>\n",
       "      <td>0.842105</td>\n",
       "      <td>0.842105</td>\n",
       "      <td>0.842105</td>\n",
       "      <td>0.842105</td>\n",
       "      <td>0.842105</td>\n",
       "      <td>0.842105</td>\n",
       "      <td>0.842105</td>\n",
       "    </tr>\n",
       "    <tr>\n",
       "      <th>gas</th>\n",
       "      <td>0.539326</td>\n",
       "      <td>0.539326</td>\n",
       "      <td>0.539326</td>\n",
       "      <td>0.539326</td>\n",
       "      <td>0.539326</td>\n",
       "      <td>0.539326</td>\n",
       "      <td>0.539326</td>\n",
       "      <td>0.539326</td>\n",
       "      <td>0.539326</td>\n",
       "      <td>0.539326</td>\n",
       "      <td>0.539326</td>\n",
       "    </tr>\n",
       "  </tbody>\n",
       "</table>\n",
       "</div>"
      ],
      "text/plain": [
       "              MAKE    ASPIRE     DOORS      BODY     DRIVE  CYLINDERS  \\\n",
       "FUELTYPE                                                                \n",
       "diesel    0.842105  0.842105  0.842105  0.842105  0.842105   0.842105   \n",
       "gas       0.539326  0.539326  0.539326  0.539326  0.539326   0.539326   \n",
       "\n",
       "                HP       RPM  MPG-CITY   MPG-HWY     PRICE  \n",
       "FUELTYPE                                                    \n",
       "diesel    0.842105  0.842105  0.842105  0.842105  0.842105  \n",
       "gas       0.539326  0.539326  0.539326  0.539326  0.539326  "
      ]
     },
     "execution_count": 80,
     "metadata": {},
     "output_type": "execute_result"
    }
   ],
   "source": [
    "auto[auto['DOORS'] == 'four'].groupby(['FUELTYPE']).count() / auto.groupby(['FUELTYPE']).count()"
   ]
  },
  {
   "cell_type": "code",
   "execution_count": 82,
   "id": "lesbian-reunion",
   "metadata": {},
   "outputs": [
    {
     "data": {
      "text/plain": [
       "BODY\n",
       "hardtop        22208.500000\n",
       "convertible    21890.500000\n",
       "sedan          14563.739130\n",
       "wagon          12500.166667\n",
       "hatchback       9958.373134\n",
       "Name: PRICE, dtype: float64"
      ]
     },
     "execution_count": 82,
     "metadata": {},
     "output_type": "execute_result"
    }
   ],
   "source": [
    "auto.groupby(['BODY']).mean()['PRICE'].sort_values(ascending = False)"
   ]
  },
  {
   "cell_type": "code",
   "execution_count": 85,
   "id": "spread-headset",
   "metadata": {},
   "outputs": [
    {
     "data": {
      "text/plain": [
       "DRIVE\n",
       "fwd    49\n",
       "rwd    31\n",
       "4wd    27\n",
       "Name: MPG-CITY, dtype: int64"
      ]
     },
     "execution_count": 85,
     "metadata": {},
     "output_type": "execute_result"
    }
   ],
   "source": [
    "auto.groupby(['DRIVE']).max()['MPG-CITY'].sort_values(ascending = False)"
   ]
  },
  {
   "cell_type": "markdown",
   "id": "corresponding-blogger",
   "metadata": {},
   "source": [
    "# Exercício 3"
   ]
  },
  {
   "cell_type": "markdown",
   "id": "removed-concentration",
   "metadata": {},
   "source": [
    "Ver `MRT_Singapura.ipynb`. "
   ]
  },
  {
   "cell_type": "markdown",
   "id": "floral-subject",
   "metadata": {},
   "source": [
    "# Exercício 4"
   ]
  },
  {
   "cell_type": "markdown",
   "id": "promotional-newton",
   "metadata": {},
   "source": [
    "Considere a base de dados disponível neste [link](https://www.dropbox.com/s/6mweebzczwyywpe/simpson.csv?dl=0) (`simpson.csv`). Analisando a correlação entre os atributos 'x' e 'y', a variável que indica a ocorrência do paradoxo de Simpson é:"
   ]
  },
  {
   "cell_type": "markdown",
   "id": "after-orbit",
   "metadata": {},
   "source": [
    "- [ ] a4\n",
    "- [ ] a1\n",
    "- [ ] a3\n",
    "- [ ] a2"
   ]
  },
  {
   "cell_type": "code",
   "execution_count": 86,
   "id": "blond-reunion",
   "metadata": {},
   "outputs": [],
   "source": [
    "simpson = pd.read_csv('./simpson.csv')"
   ]
  },
  {
   "cell_type": "code",
   "execution_count": 90,
   "id": "charged-hopkins",
   "metadata": {},
   "outputs": [
    {
     "data": {
      "text/html": [
       "<div>\n",
       "<style scoped>\n",
       "    .dataframe tbody tr th:only-of-type {\n",
       "        vertical-align: middle;\n",
       "    }\n",
       "\n",
       "    .dataframe tbody tr th {\n",
       "        vertical-align: top;\n",
       "    }\n",
       "\n",
       "    .dataframe thead th {\n",
       "        text-align: right;\n",
       "    }\n",
       "</style>\n",
       "<table border=\"1\" class=\"dataframe\">\n",
       "  <thead>\n",
       "    <tr style=\"text-align: right;\">\n",
       "      <th></th>\n",
       "      <th>x</th>\n",
       "      <th>y</th>\n",
       "    </tr>\n",
       "  </thead>\n",
       "  <tbody>\n",
       "    <tr>\n",
       "      <th>x</th>\n",
       "      <td>1.000000</td>\n",
       "      <td>0.796013</td>\n",
       "    </tr>\n",
       "    <tr>\n",
       "      <th>y</th>\n",
       "      <td>0.796013</td>\n",
       "      <td>1.000000</td>\n",
       "    </tr>\n",
       "  </tbody>\n",
       "</table>\n",
       "</div>"
      ],
      "text/plain": [
       "          x         y\n",
       "x  1.000000  0.796013\n",
       "y  0.796013  1.000000"
      ]
     },
     "execution_count": 90,
     "metadata": {},
     "output_type": "execute_result"
    }
   ],
   "source": [
    "simpson.corr()"
   ]
  },
  {
   "cell_type": "code",
   "execution_count": null,
   "id": "neither-wales",
   "metadata": {},
   "outputs": [],
   "source": []
  }
 ],
 "metadata": {
  "kernelspec": {
   "display_name": "Python 3",
   "language": "python",
   "name": "python3"
  },
  "language_info": {
   "codemirror_mode": {
    "name": "ipython",
    "version": 3
   },
   "file_extension": ".py",
   "mimetype": "text/x-python",
   "name": "python",
   "nbconvert_exporter": "python",
   "pygments_lexer": "ipython3",
   "version": "3.8.8"
  }
 },
 "nbformat": 4,
 "nbformat_minor": 5
}
