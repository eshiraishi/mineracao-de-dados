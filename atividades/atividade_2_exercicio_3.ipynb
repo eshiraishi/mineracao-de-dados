{
 "cells": [
  {
   "cell_type": "markdown",
   "metadata": {
    "id": "6poB47aMwL2D"
   },
   "source": [
    "Nesse caderno, comparamos a distância entre estações do metro de duas maneiras: \n",
    "\n",
    "- distância geográfica\n",
    "- tempo de viagem \n"
   ]
  },
  {
   "cell_type": "code",
   "execution_count": 1,
   "metadata": {
    "id": "P9BJtBWrZxiW"
   },
   "outputs": [],
   "source": [
    "import pandas as pd\n",
    "from io import StringIO\n",
    "from sklearn.manifold import MDS\n",
    "import matplotlib.pyplot as plt\n",
    "from scipy.spatial.distance import cdist"
   ]
  },
  {
   "cell_type": "markdown",
   "metadata": {
    "id": "6R9tnsEwvKA2"
   },
   "source": [
    "Vamos começar carregando a distância geográfica entre 10 estações do metro de Singapura:"
   ]
  },
  {
   "cell_type": "code",
   "execution_count": 2,
   "metadata": {
    "id": "875JiGkgud4c"
   },
   "outputs": [],
   "source": [
    "tmp = StringIO(\"\"\"STN_NAME,YISHUN_MRT_STATION,PASIR_RIS_MRT_STATION,JURONG_EAST_MRT_STATION,TUAS_LINK_MRT_STATION,BENCOOLEN_MRT_STATION,PUNGGOL_MRT_STATION,MARINA_BAY_MRT_STATION,DHOBY_GHAUT_MRT_STATION,ROCHOR_MRT_STATION,UPPER_CHANGI_MRT_STATION\n",
    "YISHUN_MRT_STATION,0,14165.8028309003,14826.8234223324,24144.58370996,14539.8253530485,7955.17551381608,17097.0983148766,14495.1289232166,14014.7715236133,17091.9107945143\n",
    "PASIR_RIS_MRT_STATION,14165.8028309003,0,23451.9973340811,34950.8745491473,13721.3248153691,6306.08987347808,14983.0092441387,14095.3770091796,13209.4818715068,3712.4090725179\n",
    "JURONG_EAST_MRT_STATION,14826.8234223324,23451.9973340811,0,11758.6400823558,12613.5429467971,19455.8643741636,14047.8304857995,12175.0907736314,12676.1241992151,24411.4671044188\n",
    "TUAS_LINK_MRT_STATION,24144.58370996,34950.8745491473,11758.6400823558,0,24202.2573770791,30351.6324743735,25305.1676395598,23749.9738806756,24325.8635170677,36124.0377992668\n",
    "BENCOOLEN_MRT_STATION,14539.8253530485,13721.3248153691,12613.5429467971,24202.2573770791,0,13024.8987292155,2565.66801256045,461.323513564845,602.910926685915,13240.7330980557\n",
    "PUNGGOL_MRT_STATION,7955.17551381608,6306.08987347808,19455.8643741636,30351.6324743735,13024.8987292155,0,15129.4446906282,13237.1986125019,12423.6186258471,9588.13908018742\n",
    "MARINA_BAY_MRT_STATION,17097.0983148766,14983.0092441387,14047.8304857995,25305.1676395598,2565.66801256045,15129.4446906282,0,2695.76728986719,3084.57512743706,13883.5893006481\n",
    "DHOBY_GHAUT_MRT_STATION,14495.1289232166,14095.3770091796,12175.0907736314,23749.9738806756,461.323513564845,13237.1986125019,2695.76728986719,0,887.79255969772,13673.2848886229\n",
    "ROCHOR_MRT_STATION,14014.7715236133,13209.4818715068,12676.1241992151,24325.8635170677,602.910926685915,12423.6186258471,3084.57512743706,887.79255969772,0,12836.5477607036\n",
    "UPPER_CHANGI_MRT_STATION,17091.9107945143,3712.4090725179,24411.4671044188,36124.0377992668,13240.7330980557,9588.13908018742,13883.5893006481,13673.2848886229,12836.5477607036,0\"\"\")\n",
    "\n",
    "distancias = pd.read_csv(tmp,index_col=0)"
   ]
  },
  {
   "cell_type": "markdown",
   "metadata": {
    "id": "QOAhDmIEbDer"
   },
   "source": [
    "Podemos visualizar essa matriz de distâncias:"
   ]
  },
  {
   "cell_type": "code",
   "execution_count": 3,
   "metadata": {
    "colab": {
     "base_uri": "https://localhost:8080/",
     "height": 414
    },
    "id": "UtQ1CQ4kvpXf",
    "outputId": "966283fb-5d7f-4905-d997-cdf1d947ec88"
   },
   "outputs": [
    {
     "data": {
      "text/html": [
       "<div>\n",
       "<style scoped>\n",
       "    .dataframe tbody tr th:only-of-type {\n",
       "        vertical-align: middle;\n",
       "    }\n",
       "\n",
       "    .dataframe tbody tr th {\n",
       "        vertical-align: top;\n",
       "    }\n",
       "\n",
       "    .dataframe thead th {\n",
       "        text-align: right;\n",
       "    }\n",
       "</style>\n",
       "<table border=\"1\" class=\"dataframe\">\n",
       "  <thead>\n",
       "    <tr style=\"text-align: right;\">\n",
       "      <th></th>\n",
       "      <th>YISHUN_MRT_STATION</th>\n",
       "      <th>PASIR_RIS_MRT_STATION</th>\n",
       "      <th>JURONG_EAST_MRT_STATION</th>\n",
       "      <th>TUAS_LINK_MRT_STATION</th>\n",
       "      <th>BENCOOLEN_MRT_STATION</th>\n",
       "      <th>PUNGGOL_MRT_STATION</th>\n",
       "      <th>MARINA_BAY_MRT_STATION</th>\n",
       "      <th>DHOBY_GHAUT_MRT_STATION</th>\n",
       "      <th>ROCHOR_MRT_STATION</th>\n",
       "      <th>UPPER_CHANGI_MRT_STATION</th>\n",
       "    </tr>\n",
       "    <tr>\n",
       "      <th>STN_NAME</th>\n",
       "      <th></th>\n",
       "      <th></th>\n",
       "      <th></th>\n",
       "      <th></th>\n",
       "      <th></th>\n",
       "      <th></th>\n",
       "      <th></th>\n",
       "      <th></th>\n",
       "      <th></th>\n",
       "      <th></th>\n",
       "    </tr>\n",
       "  </thead>\n",
       "  <tbody>\n",
       "    <tr>\n",
       "      <th>YISHUN_MRT_STATION</th>\n",
       "      <td>0.000000</td>\n",
       "      <td>14165.802831</td>\n",
       "      <td>14826.823422</td>\n",
       "      <td>24144.583710</td>\n",
       "      <td>14539.825353</td>\n",
       "      <td>7955.175514</td>\n",
       "      <td>17097.098315</td>\n",
       "      <td>14495.128923</td>\n",
       "      <td>14014.771524</td>\n",
       "      <td>17091.910795</td>\n",
       "    </tr>\n",
       "    <tr>\n",
       "      <th>PASIR_RIS_MRT_STATION</th>\n",
       "      <td>14165.802831</td>\n",
       "      <td>0.000000</td>\n",
       "      <td>23451.997334</td>\n",
       "      <td>34950.874549</td>\n",
       "      <td>13721.324815</td>\n",
       "      <td>6306.089873</td>\n",
       "      <td>14983.009244</td>\n",
       "      <td>14095.377009</td>\n",
       "      <td>13209.481872</td>\n",
       "      <td>3712.409073</td>\n",
       "    </tr>\n",
       "    <tr>\n",
       "      <th>JURONG_EAST_MRT_STATION</th>\n",
       "      <td>14826.823422</td>\n",
       "      <td>23451.997334</td>\n",
       "      <td>0.000000</td>\n",
       "      <td>11758.640082</td>\n",
       "      <td>12613.542947</td>\n",
       "      <td>19455.864374</td>\n",
       "      <td>14047.830486</td>\n",
       "      <td>12175.090774</td>\n",
       "      <td>12676.124199</td>\n",
       "      <td>24411.467104</td>\n",
       "    </tr>\n",
       "    <tr>\n",
       "      <th>TUAS_LINK_MRT_STATION</th>\n",
       "      <td>24144.583710</td>\n",
       "      <td>34950.874549</td>\n",
       "      <td>11758.640082</td>\n",
       "      <td>0.000000</td>\n",
       "      <td>24202.257377</td>\n",
       "      <td>30351.632474</td>\n",
       "      <td>25305.167640</td>\n",
       "      <td>23749.973881</td>\n",
       "      <td>24325.863517</td>\n",
       "      <td>36124.037799</td>\n",
       "    </tr>\n",
       "    <tr>\n",
       "      <th>BENCOOLEN_MRT_STATION</th>\n",
       "      <td>14539.825353</td>\n",
       "      <td>13721.324815</td>\n",
       "      <td>12613.542947</td>\n",
       "      <td>24202.257377</td>\n",
       "      <td>0.000000</td>\n",
       "      <td>13024.898729</td>\n",
       "      <td>2565.668013</td>\n",
       "      <td>461.323514</td>\n",
       "      <td>602.910927</td>\n",
       "      <td>13240.733098</td>\n",
       "    </tr>\n",
       "    <tr>\n",
       "      <th>PUNGGOL_MRT_STATION</th>\n",
       "      <td>7955.175514</td>\n",
       "      <td>6306.089873</td>\n",
       "      <td>19455.864374</td>\n",
       "      <td>30351.632474</td>\n",
       "      <td>13024.898729</td>\n",
       "      <td>0.000000</td>\n",
       "      <td>15129.444691</td>\n",
       "      <td>13237.198613</td>\n",
       "      <td>12423.618626</td>\n",
       "      <td>9588.139080</td>\n",
       "    </tr>\n",
       "    <tr>\n",
       "      <th>MARINA_BAY_MRT_STATION</th>\n",
       "      <td>17097.098315</td>\n",
       "      <td>14983.009244</td>\n",
       "      <td>14047.830486</td>\n",
       "      <td>25305.167640</td>\n",
       "      <td>2565.668013</td>\n",
       "      <td>15129.444691</td>\n",
       "      <td>0.000000</td>\n",
       "      <td>2695.767290</td>\n",
       "      <td>3084.575127</td>\n",
       "      <td>13883.589301</td>\n",
       "    </tr>\n",
       "    <tr>\n",
       "      <th>DHOBY_GHAUT_MRT_STATION</th>\n",
       "      <td>14495.128923</td>\n",
       "      <td>14095.377009</td>\n",
       "      <td>12175.090774</td>\n",
       "      <td>23749.973881</td>\n",
       "      <td>461.323514</td>\n",
       "      <td>13237.198613</td>\n",
       "      <td>2695.767290</td>\n",
       "      <td>0.000000</td>\n",
       "      <td>887.792560</td>\n",
       "      <td>13673.284889</td>\n",
       "    </tr>\n",
       "    <tr>\n",
       "      <th>ROCHOR_MRT_STATION</th>\n",
       "      <td>14014.771524</td>\n",
       "      <td>13209.481872</td>\n",
       "      <td>12676.124199</td>\n",
       "      <td>24325.863517</td>\n",
       "      <td>602.910927</td>\n",
       "      <td>12423.618626</td>\n",
       "      <td>3084.575127</td>\n",
       "      <td>887.792560</td>\n",
       "      <td>0.000000</td>\n",
       "      <td>12836.547761</td>\n",
       "    </tr>\n",
       "    <tr>\n",
       "      <th>UPPER_CHANGI_MRT_STATION</th>\n",
       "      <td>17091.910795</td>\n",
       "      <td>3712.409073</td>\n",
       "      <td>24411.467104</td>\n",
       "      <td>36124.037799</td>\n",
       "      <td>13240.733098</td>\n",
       "      <td>9588.139080</td>\n",
       "      <td>13883.589301</td>\n",
       "      <td>13673.284889</td>\n",
       "      <td>12836.547761</td>\n",
       "      <td>0.000000</td>\n",
       "    </tr>\n",
       "  </tbody>\n",
       "</table>\n",
       "</div>"
      ],
      "text/plain": [
       "                          YISHUN_MRT_STATION  PASIR_RIS_MRT_STATION  \\\n",
       "STN_NAME                                                              \n",
       "YISHUN_MRT_STATION                  0.000000           14165.802831   \n",
       "PASIR_RIS_MRT_STATION           14165.802831               0.000000   \n",
       "JURONG_EAST_MRT_STATION         14826.823422           23451.997334   \n",
       "TUAS_LINK_MRT_STATION           24144.583710           34950.874549   \n",
       "BENCOOLEN_MRT_STATION           14539.825353           13721.324815   \n",
       "PUNGGOL_MRT_STATION              7955.175514            6306.089873   \n",
       "MARINA_BAY_MRT_STATION          17097.098315           14983.009244   \n",
       "DHOBY_GHAUT_MRT_STATION         14495.128923           14095.377009   \n",
       "ROCHOR_MRT_STATION              14014.771524           13209.481872   \n",
       "UPPER_CHANGI_MRT_STATION        17091.910795            3712.409073   \n",
       "\n",
       "                          JURONG_EAST_MRT_STATION  TUAS_LINK_MRT_STATION  \\\n",
       "STN_NAME                                                                   \n",
       "YISHUN_MRT_STATION                   14826.823422           24144.583710   \n",
       "PASIR_RIS_MRT_STATION                23451.997334           34950.874549   \n",
       "JURONG_EAST_MRT_STATION                  0.000000           11758.640082   \n",
       "TUAS_LINK_MRT_STATION                11758.640082               0.000000   \n",
       "BENCOOLEN_MRT_STATION                12613.542947           24202.257377   \n",
       "PUNGGOL_MRT_STATION                  19455.864374           30351.632474   \n",
       "MARINA_BAY_MRT_STATION               14047.830486           25305.167640   \n",
       "DHOBY_GHAUT_MRT_STATION              12175.090774           23749.973881   \n",
       "ROCHOR_MRT_STATION                   12676.124199           24325.863517   \n",
       "UPPER_CHANGI_MRT_STATION             24411.467104           36124.037799   \n",
       "\n",
       "                          BENCOOLEN_MRT_STATION  PUNGGOL_MRT_STATION  \\\n",
       "STN_NAME                                                               \n",
       "YISHUN_MRT_STATION                 14539.825353          7955.175514   \n",
       "PASIR_RIS_MRT_STATION              13721.324815          6306.089873   \n",
       "JURONG_EAST_MRT_STATION            12613.542947         19455.864374   \n",
       "TUAS_LINK_MRT_STATION              24202.257377         30351.632474   \n",
       "BENCOOLEN_MRT_STATION                  0.000000         13024.898729   \n",
       "PUNGGOL_MRT_STATION                13024.898729             0.000000   \n",
       "MARINA_BAY_MRT_STATION              2565.668013         15129.444691   \n",
       "DHOBY_GHAUT_MRT_STATION              461.323514         13237.198613   \n",
       "ROCHOR_MRT_STATION                   602.910927         12423.618626   \n",
       "UPPER_CHANGI_MRT_STATION           13240.733098          9588.139080   \n",
       "\n",
       "                          MARINA_BAY_MRT_STATION  DHOBY_GHAUT_MRT_STATION  \\\n",
       "STN_NAME                                                                    \n",
       "YISHUN_MRT_STATION                  17097.098315             14495.128923   \n",
       "PASIR_RIS_MRT_STATION               14983.009244             14095.377009   \n",
       "JURONG_EAST_MRT_STATION             14047.830486             12175.090774   \n",
       "TUAS_LINK_MRT_STATION               25305.167640             23749.973881   \n",
       "BENCOOLEN_MRT_STATION                2565.668013               461.323514   \n",
       "PUNGGOL_MRT_STATION                 15129.444691             13237.198613   \n",
       "MARINA_BAY_MRT_STATION                  0.000000              2695.767290   \n",
       "DHOBY_GHAUT_MRT_STATION              2695.767290                 0.000000   \n",
       "ROCHOR_MRT_STATION                   3084.575127               887.792560   \n",
       "UPPER_CHANGI_MRT_STATION            13883.589301             13673.284889   \n",
       "\n",
       "                          ROCHOR_MRT_STATION  UPPER_CHANGI_MRT_STATION  \n",
       "STN_NAME                                                                \n",
       "YISHUN_MRT_STATION              14014.771524              17091.910795  \n",
       "PASIR_RIS_MRT_STATION           13209.481872               3712.409073  \n",
       "JURONG_EAST_MRT_STATION         12676.124199              24411.467104  \n",
       "TUAS_LINK_MRT_STATION           24325.863517              36124.037799  \n",
       "BENCOOLEN_MRT_STATION             602.910927              13240.733098  \n",
       "PUNGGOL_MRT_STATION             12423.618626               9588.139080  \n",
       "MARINA_BAY_MRT_STATION           3084.575127              13883.589301  \n",
       "DHOBY_GHAUT_MRT_STATION           887.792560              13673.284889  \n",
       "ROCHOR_MRT_STATION                  0.000000              12836.547761  \n",
       "UPPER_CHANGI_MRT_STATION        12836.547761                  0.000000  "
      ]
     },
     "execution_count": 3,
     "metadata": {},
     "output_type": "execute_result"
    }
   ],
   "source": [
    "distancias"
   ]
  },
  {
   "cell_type": "markdown",
   "metadata": {
    "id": "fI4hlOQnvVol"
   },
   "source": [
    "Agora vamos considerar o tempo médio de viagem entre essas 10 estações de metro de Singapura:"
   ]
  },
  {
   "cell_type": "code",
   "execution_count": 4,
   "metadata": {
    "id": "N3X56733a_h8"
   },
   "outputs": [],
   "source": [
    "tmp = StringIO(\"\"\" STN_NAME,YISHUN_MRT_STATION,PASIR_RIS_MRT_STATION,JURONG_EAST_MRT_STATION,TUAS_LINK_MRT_STATION,BENCOOLEN_MRT_STATION,PUNGGOL_MRT_STATION,MARINA_BAY_MRT_STATION,DHOBY_GHAUT_MRT_STATION,ROCHOR_MRT_STATION,UPPER_CHANGI_MRT_STATION\n",
    "YISHUN_MRT_STATION,0,476,2359,707,2347,1944,640,3593,1848,2245\n",
    "PASIR_RIS_MRT_STATION,476,0,2009,363,1970,1484,334,3219,2173,1820\n",
    "JURONG_EAST_MRT_STATION,2359,2009,0,1883,3677,3422,2044,1738,3665,2411\n",
    "TUAS_LINK_MRT_STATION,707,363,1883,0,2169,1848,528,3118,2441,2127\n",
    "BENCOOLEN_MRT_STATION,2347,1970,3677,2169,0,2599,1819,4912,1334,3734\n",
    "PUNGGOL_MRT_STATION,1944,1484,3422,1848,2599,0,1552,4632,3174,2194\n",
    "MARINA_BAY_MRT_STATION,640,334,2044,528,1819,1552,0,3318,1998,1758\n",
    "DHOBY_GHAUT_MRT_STATION,3593,3219,1738,3118,4912,4632,3318,0,4941,3659\n",
    "ROCHOR_MRT_STATION,1848,2173,3665,2441,1334,3174,1998,4941,0,3945\n",
    "UPPER_CHANGI_MRT_STATION,2245,1820,2411,2127,3734,2194,1758,3659,3945,0 \"\"\")\n",
    "tempo_viagem = pd.read_csv(tmp,index_col=0)"
   ]
  },
  {
   "cell_type": "markdown",
   "metadata": {
    "id": "vnc7nGn-cqaI"
   },
   "source": [
    "Podemos visualizar essa matriz de tempo de viagem"
   ]
  },
  {
   "cell_type": "code",
   "execution_count": 5,
   "metadata": {
    "colab": {
     "base_uri": "https://localhost:8080/",
     "height": 414
    },
    "id": "ehyYlDsDj-MR",
    "outputId": "78a3b311-b726-4b3d-81e6-244f4c24a239"
   },
   "outputs": [
    {
     "data": {
      "text/html": [
       "<div>\n",
       "<style scoped>\n",
       "    .dataframe tbody tr th:only-of-type {\n",
       "        vertical-align: middle;\n",
       "    }\n",
       "\n",
       "    .dataframe tbody tr th {\n",
       "        vertical-align: top;\n",
       "    }\n",
       "\n",
       "    .dataframe thead th {\n",
       "        text-align: right;\n",
       "    }\n",
       "</style>\n",
       "<table border=\"1\" class=\"dataframe\">\n",
       "  <thead>\n",
       "    <tr style=\"text-align: right;\">\n",
       "      <th></th>\n",
       "      <th>YISHUN_MRT_STATION</th>\n",
       "      <th>PASIR_RIS_MRT_STATION</th>\n",
       "      <th>JURONG_EAST_MRT_STATION</th>\n",
       "      <th>TUAS_LINK_MRT_STATION</th>\n",
       "      <th>BENCOOLEN_MRT_STATION</th>\n",
       "      <th>PUNGGOL_MRT_STATION</th>\n",
       "      <th>MARINA_BAY_MRT_STATION</th>\n",
       "      <th>DHOBY_GHAUT_MRT_STATION</th>\n",
       "      <th>ROCHOR_MRT_STATION</th>\n",
       "      <th>UPPER_CHANGI_MRT_STATION</th>\n",
       "    </tr>\n",
       "    <tr>\n",
       "      <th>STN_NAME</th>\n",
       "      <th></th>\n",
       "      <th></th>\n",
       "      <th></th>\n",
       "      <th></th>\n",
       "      <th></th>\n",
       "      <th></th>\n",
       "      <th></th>\n",
       "      <th></th>\n",
       "      <th></th>\n",
       "      <th></th>\n",
       "    </tr>\n",
       "  </thead>\n",
       "  <tbody>\n",
       "    <tr>\n",
       "      <th>YISHUN_MRT_STATION</th>\n",
       "      <td>0</td>\n",
       "      <td>476</td>\n",
       "      <td>2359</td>\n",
       "      <td>707</td>\n",
       "      <td>2347</td>\n",
       "      <td>1944</td>\n",
       "      <td>640</td>\n",
       "      <td>3593</td>\n",
       "      <td>1848</td>\n",
       "      <td>2245</td>\n",
       "    </tr>\n",
       "    <tr>\n",
       "      <th>PASIR_RIS_MRT_STATION</th>\n",
       "      <td>476</td>\n",
       "      <td>0</td>\n",
       "      <td>2009</td>\n",
       "      <td>363</td>\n",
       "      <td>1970</td>\n",
       "      <td>1484</td>\n",
       "      <td>334</td>\n",
       "      <td>3219</td>\n",
       "      <td>2173</td>\n",
       "      <td>1820</td>\n",
       "    </tr>\n",
       "    <tr>\n",
       "      <th>JURONG_EAST_MRT_STATION</th>\n",
       "      <td>2359</td>\n",
       "      <td>2009</td>\n",
       "      <td>0</td>\n",
       "      <td>1883</td>\n",
       "      <td>3677</td>\n",
       "      <td>3422</td>\n",
       "      <td>2044</td>\n",
       "      <td>1738</td>\n",
       "      <td>3665</td>\n",
       "      <td>2411</td>\n",
       "    </tr>\n",
       "    <tr>\n",
       "      <th>TUAS_LINK_MRT_STATION</th>\n",
       "      <td>707</td>\n",
       "      <td>363</td>\n",
       "      <td>1883</td>\n",
       "      <td>0</td>\n",
       "      <td>2169</td>\n",
       "      <td>1848</td>\n",
       "      <td>528</td>\n",
       "      <td>3118</td>\n",
       "      <td>2441</td>\n",
       "      <td>2127</td>\n",
       "    </tr>\n",
       "    <tr>\n",
       "      <th>BENCOOLEN_MRT_STATION</th>\n",
       "      <td>2347</td>\n",
       "      <td>1970</td>\n",
       "      <td>3677</td>\n",
       "      <td>2169</td>\n",
       "      <td>0</td>\n",
       "      <td>2599</td>\n",
       "      <td>1819</td>\n",
       "      <td>4912</td>\n",
       "      <td>1334</td>\n",
       "      <td>3734</td>\n",
       "    </tr>\n",
       "    <tr>\n",
       "      <th>PUNGGOL_MRT_STATION</th>\n",
       "      <td>1944</td>\n",
       "      <td>1484</td>\n",
       "      <td>3422</td>\n",
       "      <td>1848</td>\n",
       "      <td>2599</td>\n",
       "      <td>0</td>\n",
       "      <td>1552</td>\n",
       "      <td>4632</td>\n",
       "      <td>3174</td>\n",
       "      <td>2194</td>\n",
       "    </tr>\n",
       "    <tr>\n",
       "      <th>MARINA_BAY_MRT_STATION</th>\n",
       "      <td>640</td>\n",
       "      <td>334</td>\n",
       "      <td>2044</td>\n",
       "      <td>528</td>\n",
       "      <td>1819</td>\n",
       "      <td>1552</td>\n",
       "      <td>0</td>\n",
       "      <td>3318</td>\n",
       "      <td>1998</td>\n",
       "      <td>1758</td>\n",
       "    </tr>\n",
       "    <tr>\n",
       "      <th>DHOBY_GHAUT_MRT_STATION</th>\n",
       "      <td>3593</td>\n",
       "      <td>3219</td>\n",
       "      <td>1738</td>\n",
       "      <td>3118</td>\n",
       "      <td>4912</td>\n",
       "      <td>4632</td>\n",
       "      <td>3318</td>\n",
       "      <td>0</td>\n",
       "      <td>4941</td>\n",
       "      <td>3659</td>\n",
       "    </tr>\n",
       "    <tr>\n",
       "      <th>ROCHOR_MRT_STATION</th>\n",
       "      <td>1848</td>\n",
       "      <td>2173</td>\n",
       "      <td>3665</td>\n",
       "      <td>2441</td>\n",
       "      <td>1334</td>\n",
       "      <td>3174</td>\n",
       "      <td>1998</td>\n",
       "      <td>4941</td>\n",
       "      <td>0</td>\n",
       "      <td>3945</td>\n",
       "    </tr>\n",
       "    <tr>\n",
       "      <th>UPPER_CHANGI_MRT_STATION</th>\n",
       "      <td>2245</td>\n",
       "      <td>1820</td>\n",
       "      <td>2411</td>\n",
       "      <td>2127</td>\n",
       "      <td>3734</td>\n",
       "      <td>2194</td>\n",
       "      <td>1758</td>\n",
       "      <td>3659</td>\n",
       "      <td>3945</td>\n",
       "      <td>0</td>\n",
       "    </tr>\n",
       "  </tbody>\n",
       "</table>\n",
       "</div>"
      ],
      "text/plain": [
       "                          YISHUN_MRT_STATION  PASIR_RIS_MRT_STATION  \\\n",
       " STN_NAME                                                             \n",
       "YISHUN_MRT_STATION                         0                    476   \n",
       "PASIR_RIS_MRT_STATION                    476                      0   \n",
       "JURONG_EAST_MRT_STATION                 2359                   2009   \n",
       "TUAS_LINK_MRT_STATION                    707                    363   \n",
       "BENCOOLEN_MRT_STATION                   2347                   1970   \n",
       "PUNGGOL_MRT_STATION                     1944                   1484   \n",
       "MARINA_BAY_MRT_STATION                   640                    334   \n",
       "DHOBY_GHAUT_MRT_STATION                 3593                   3219   \n",
       "ROCHOR_MRT_STATION                      1848                   2173   \n",
       "UPPER_CHANGI_MRT_STATION                2245                   1820   \n",
       "\n",
       "                          JURONG_EAST_MRT_STATION  TUAS_LINK_MRT_STATION  \\\n",
       " STN_NAME                                                                  \n",
       "YISHUN_MRT_STATION                           2359                    707   \n",
       "PASIR_RIS_MRT_STATION                        2009                    363   \n",
       "JURONG_EAST_MRT_STATION                         0                   1883   \n",
       "TUAS_LINK_MRT_STATION                        1883                      0   \n",
       "BENCOOLEN_MRT_STATION                        3677                   2169   \n",
       "PUNGGOL_MRT_STATION                          3422                   1848   \n",
       "MARINA_BAY_MRT_STATION                       2044                    528   \n",
       "DHOBY_GHAUT_MRT_STATION                      1738                   3118   \n",
       "ROCHOR_MRT_STATION                           3665                   2441   \n",
       "UPPER_CHANGI_MRT_STATION                     2411                   2127   \n",
       "\n",
       "                          BENCOOLEN_MRT_STATION  PUNGGOL_MRT_STATION  \\\n",
       " STN_NAME                                                              \n",
       "YISHUN_MRT_STATION                         2347                 1944   \n",
       "PASIR_RIS_MRT_STATION                      1970                 1484   \n",
       "JURONG_EAST_MRT_STATION                    3677                 3422   \n",
       "TUAS_LINK_MRT_STATION                      2169                 1848   \n",
       "BENCOOLEN_MRT_STATION                         0                 2599   \n",
       "PUNGGOL_MRT_STATION                        2599                    0   \n",
       "MARINA_BAY_MRT_STATION                     1819                 1552   \n",
       "DHOBY_GHAUT_MRT_STATION                    4912                 4632   \n",
       "ROCHOR_MRT_STATION                         1334                 3174   \n",
       "UPPER_CHANGI_MRT_STATION                   3734                 2194   \n",
       "\n",
       "                          MARINA_BAY_MRT_STATION  DHOBY_GHAUT_MRT_STATION  \\\n",
       " STN_NAME                                                                   \n",
       "YISHUN_MRT_STATION                           640                     3593   \n",
       "PASIR_RIS_MRT_STATION                        334                     3219   \n",
       "JURONG_EAST_MRT_STATION                     2044                     1738   \n",
       "TUAS_LINK_MRT_STATION                        528                     3118   \n",
       "BENCOOLEN_MRT_STATION                       1819                     4912   \n",
       "PUNGGOL_MRT_STATION                         1552                     4632   \n",
       "MARINA_BAY_MRT_STATION                         0                     3318   \n",
       "DHOBY_GHAUT_MRT_STATION                     3318                        0   \n",
       "ROCHOR_MRT_STATION                          1998                     4941   \n",
       "UPPER_CHANGI_MRT_STATION                    1758                     3659   \n",
       "\n",
       "                          ROCHOR_MRT_STATION  UPPER_CHANGI_MRT_STATION  \n",
       " STN_NAME                                                               \n",
       "YISHUN_MRT_STATION                      1848                      2245  \n",
       "PASIR_RIS_MRT_STATION                   2173                      1820  \n",
       "JURONG_EAST_MRT_STATION                 3665                      2411  \n",
       "TUAS_LINK_MRT_STATION                   2441                      2127  \n",
       "BENCOOLEN_MRT_STATION                   1334                      3734  \n",
       "PUNGGOL_MRT_STATION                     3174                      2194  \n",
       "MARINA_BAY_MRT_STATION                  1998                      1758  \n",
       "DHOBY_GHAUT_MRT_STATION                 4941                      3659  \n",
       "ROCHOR_MRT_STATION                         0                      3945  \n",
       "UPPER_CHANGI_MRT_STATION                3945                         0  "
      ]
     },
     "execution_count": 5,
     "metadata": {},
     "output_type": "execute_result"
    }
   ],
   "source": [
    "tempo_viagem"
   ]
  },
  {
   "cell_type": "markdown",
   "metadata": {
    "id": "2OMWrKNJc82t"
   },
   "source": [
    "Agora vamos criar a projeção usando o escalonamento multimensional (o parâmetro `random_state` foi inserido para que o resultado seja reprodutível:"
   ]
  },
  {
   "cell_type": "code",
   "execution_count": null,
   "metadata": {
    "id": "D_V1u1KDh3LN"
   },
   "outputs": [],
   "source": [
    "mds = MDS(dissimilarity='precomputed',random_state=42)\n",
    "mds_distancias = mds.fit_transform(distancias)\n",
    "mds_tempo_viagem = mds.fit_transform(tempo_viagem)"
   ]
  },
  {
   "cell_type": "markdown",
   "metadata": {
    "id": "b_SIIpHZdO6d"
   },
   "source": [
    "Agora vamos normalizar essas projeções para que fiquem em uma mesma escala:"
   ]
  },
  {
   "cell_type": "code",
   "execution_count": null,
   "metadata": {
    "id": "DutBK5CXdV9O"
   },
   "outputs": [],
   "source": [
    "mds_distancias /= mds_distancias.max()\n",
    "mds_tempo_viagem /= mds_tempo_viagem.max()"
   ]
  },
  {
   "cell_type": "markdown",
   "metadata": {
    "id": "O24iQZQyddXC"
   },
   "source": [
    "E fazer um gráfico bi-dimensional com essas duas projeções:"
   ]
  },
  {
   "cell_type": "code",
   "execution_count": null,
   "metadata": {
    "colab": {
     "base_uri": "https://localhost:8080/",
     "height": 609
    },
    "id": "QxLp9WgAfYcu",
    "outputId": "a111f642-3dce-4605-8471-9f40e5ecba96"
   },
   "outputs": [
    {
     "data": {
      "text/plain": [
       "<matplotlib.legend.Legend at 0x7f4476dfc890>"
      ]
     },
     "execution_count": 12,
     "metadata": {
      "tags": []
     },
     "output_type": "execute_result"
    },
    {
     "data": {
      "image/png": "[encoded data removed]",
      "text/plain": [
       "<Figure size 720x720 with 1 Axes>"
      ]
     },
     "metadata": {
      "needs_background": "light",
      "tags": []
     },
     "output_type": "display_data"
    }
   ],
   "source": [
    "fig = plt.figure(figsize=(10,10))\n",
    "\n",
    "plt.scatter(mds_distancias[:,0],mds_distancias[:,1],color = 'red', label=\"Distâncias\")\n",
    "for i in range(len(mds_distancias)):\n",
    "  plt.text(mds_distancias[i,0],mds_distancias[i,1],distancias.index[i])\n",
    "\n",
    "plt.scatter(mds_tempo_viagem[:,0],mds_tempo_viagem[:,1],color = 'blue', label=\"Tempo de Viagem\")\n",
    "for i in range(len(mds_tempo_viagem)):\n",
    "  plt.text(mds_tempo_viagem[i,0],mds_tempo_viagem[i,1],tempo_viagem.index[i])\n",
    "\n",
    "plt.legend(loc='lower left')"
   ]
  }
 ],
 "metadata": {
  "colab": {
   "name": "MRT_Singapura.ipynb",
   "provenance": []
  },
  "kernelspec": {
   "display_name": "Python 3",
   "language": "python",
   "name": "python3"
  },
  "language_info": {
   "codemirror_mode": {
    "name": "ipython",
    "version": 3
   },
   "file_extension": ".py",
   "mimetype": "text/x-python",
   "name": "python",
   "nbconvert_exporter": "python",
   "pygments_lexer": "ipython3",
   "version": "3.8.8"
  }
 },
 "nbformat": 4,
 "nbformat_minor": 4
}
